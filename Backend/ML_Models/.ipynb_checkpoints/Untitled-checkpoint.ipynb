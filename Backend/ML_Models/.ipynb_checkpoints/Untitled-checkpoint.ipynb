{
 "cells": [
  {
   "cell_type": "code",
   "execution_count": 7,
   "metadata": {
    "collapsed": true
   },
   "outputs": [],
   "source": [
    "import theano\n",
    "from keras.models import load_model,Model\n",
    "import cv2\n",
    "import numpy as np\n"
   ]
  },
  {
   "cell_type": "code",
   "execution_count": 37,
   "metadata": {
    "collapsed": false
   },
   "outputs": [],
   "source": [
    "temp = load_model('/home/vasu/all_projects/Beagos/Backend/ML_Models/CNN_temp.h5')\n",
    "model = load_model('/home/vasu/all_projects/Beagos/Backend/ML_Models/CNN_full.h5')"
   ]
  },
  {
   "cell_type": "code",
   "execution_count": 33,
   "metadata": {
    "collapsed": false
   },
   "outputs": [],
   "source": [
    "image = cv2.imread('/home/vasu/Hackathon_logos/FlickrLogos-v2/classes/jpg/adidas/144503924.jpg', 0)\n",
    "img = cv2.resize(image, (100,100))\n",
    "x = img.reshape(10000)\n",
    "X = np.array(x)"
   ]
  },
  {
   "cell_type": "code",
   "execution_count": 34,
   "metadata": {
    "collapsed": false
   },
   "outputs": [],
   "source": [
    "X = X.reshape((1, 100 ,100, 1)) / 255.0"
   ]
  },
  {
   "cell_type": "code",
   "execution_count": 39,
   "metadata": {
    "collapsed": false
   },
   "outputs": [
    {
     "name": "stdout",
     "output_type": "stream",
     "text": [
      "\n"
     ]
    }
   ],
   "source": [
    "x = temp.predict(X)\n",
    "y = model.predict(X)"
   ]
  },
  {
   "cell_type": "code",
   "execution_count": 40,
   "metadata": {
    "collapsed": false
   },
   "outputs": [
    {
     "name": "stdout",
     "output_type": "stream",
     "text": [
      "[[ -3.10116029  -4.04371977  -4.63827467   0.57673323  -5.3209815\n",
      "    1.36589491   0.13814127   1.43782747  -5.45918894  -2.87932777\n",
      "    5.44923162  -1.18287098 -10.27981853  -1.80267477  -0.08962873\n",
      "   -6.17169428  -9.25609779  -8.7201128    0.10491513  -3.35930681\n",
      "    5.29282379  -0.91476631  -4.50141573  -9.24526501  -8.23736668\n",
      "  -13.51569557   9.88679218   5.16702461   8.15037823  -9.58162403\n",
      "   -9.47157478  -5.94224882  -7.33325195 -12.48723125]] [[  1.89424509e-06   7.38053757e-07   4.07264054e-07   7.49419632e-05\n",
      "    2.05769183e-07   1.64988436e-04   4.83333679e-05   1.77293667e-04\n",
      "    1.79207703e-07   2.36470282e-06   9.79092810e-03   1.28984748e-05\n",
      "    1.44472223e-09   6.94002392e-06   3.84881641e-05   8.78860007e-08\n",
      "    4.02142675e-09   6.87314961e-09   4.67537793e-05   1.46326806e-06\n",
      "    8.37330334e-03   1.68645474e-05   4.66995147e-07   4.06523393e-09\n",
      "    1.11380629e-08   5.68146814e-11   8.28003168e-01   7.38351280e-03\n",
      "    1.45853549e-01   2.90406632e-09   3.24190141e-09   1.10552186e-07\n",
      "    2.75081966e-08   1.58897520e-10]]\n"
     ]
    }
   ],
   "source": [
    "print x,y"
   ]
  }
 ],
 "metadata": {
  "kernelspec": {
   "display_name": "Python 2",
   "language": "python",
   "name": "python2"
  },
  "language_info": {
   "codemirror_mode": {
    "name": "ipython",
    "version": 2
   },
   "file_extension": ".py",
   "mimetype": "text/x-python",
   "name": "python",
   "nbconvert_exporter": "python",
   "pygments_lexer": "ipython2",
   "version": "2.7.12"
  }
 },
 "nbformat": 4,
 "nbformat_minor": 2
}
