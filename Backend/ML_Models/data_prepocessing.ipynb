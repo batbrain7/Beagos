{
 "cells": [
  {
   "cell_type": "code",
   "execution_count": 1,
   "metadata": {
    "collapsed": true
   },
   "outputs": [],
   "source": [
    "import cv2\n",
    "import glob\n",
    "import numpy as np\n",
    "from matplotlib import pyplot as plt\n",
    "%matplotlib inline\n",
    "import glob\n",
    "import os"
   ]
  },
  {
   "cell_type": "code",
   "execution_count": 10,
   "metadata": {
    "collapsed": false
   },
   "outputs": [
    {
     "name": "stdout",
     "output_type": "stream",
     "text": [
      "['stellaartois', 'google', 'ferrari', 'starbucks', 'becks', 'milka', 'fosters', 'texaco', 'heineken', 'erdinger', 'dhl', 'esso', 'nvidia', 'shell', 'paulaner', 'tsingtao', 'ford', 'rittersport', 'bmw', 'apple', 'corona', 'cocacola', 'carlsberg', 'fedex', 'aldi', 'adidas', 'hp', 'singha', 'ups', 'guiness', 'pepsi', 'chimay']\n"
     ]
    }
   ],
   "source": [
    "masks = os.listdir('/home/vasu/Hackathon_logos/FlickrLogos-v2/classes/jpg//')\n",
    "print masks"
   ]
  },
  {
   "cell_type": "code",
   "execution_count": 11,
   "metadata": {
    "collapsed": true
   },
   "outputs": [],
   "source": [
    "pth = '/home/vasu/Hackathon_logos/FlickrLogos-v2/classes/'"
   ]
  },
  {
   "cell_type": "code",
   "execution_count": 12,
   "metadata": {
    "collapsed": false
   },
   "outputs": [],
   "source": [
    "X=[]\n",
    "for string in masks:\n",
    "    l1 = os.listdir(pth + 'jpg/' + string + '/')\n",
    "    l2 = os.listdir(pth + 'masks/' + string + '/')\n",
    "    for ix in range(70):\n",
    "        image,text = l1[ix], l2[l2.index(l1[ix] + '.bboxes.txt')]\n",
    "        img = cv2.imread(pth + 'jpg/' + string + '/' + image, 0)\n",
    "        dt = open(pth + 'masks/' + string + '/' + text).read()\n",
    "        dt = str(dt)\n",
    "        x, y, w, h = dt.split()[4:8]\n",
    "        x, y, w,h = int(x), int(y), int(w), int(h)\n",
    "        cropped = img[y:y+h, x:x+w]\n",
    "        img = cv2.resize(cropped, (100,100))\n",
    "        x = img.reshape(10000)\n",
    "        X.append(x)  "
   ]
  },
  {
   "cell_type": "code",
   "execution_count": 13,
   "metadata": {
    "collapsed": true
   },
   "outputs": [],
   "source": [
    "path = '/home/vasu/Hackathon_logos/coding_ninjas/*.png'   \n",
    "files=glob.glob(path)   \n",
    "for file in files:\n",
    "    image = cv2.imread(file, 0)\n",
    "    img = cv2.resize(image, (100,100))\n",
    "    x = img.reshape(10000)\n",
    "    X.append(x)"
   ]
  },
  {
   "cell_type": "code",
   "execution_count": 14,
   "metadata": {
    "collapsed": false
   },
   "outputs": [
    {
     "name": "stdout",
     "output_type": "stream",
     "text": [
      "(4000, 10000)\n"
     ]
    }
   ],
   "source": [
    "path = '/home/vasu/Hackathon_logos/FlickrLogos-v2/classes/no-logo/*.jpg'   \n",
    "files=glob.glob(path)   \n",
    "count = 0\n",
    "for file in files:\n",
    "    while count < 1750 :\n",
    "        image = cv2.imread(file, 0)\n",
    "        img = cv2.resize(image, (100,100))\n",
    "        x = img.reshape(10000)\n",
    "        X.append(x)\n",
    "        count = count+1\n",
    "\n",
    "        X_train = np.array(X)  \n",
    "print X_train.shape"
   ]
  },
  {
   "cell_type": "code",
   "execution_count": 15,
   "metadata": {
    "collapsed": true
   },
   "outputs": [],
   "source": [
    "y= []\n",
    "count = 1\n",
    "for x in range(32):\n",
    "    for z in range(70):\n",
    "        y.append(x+1)"
   ]
  },
  {
   "cell_type": "code",
   "execution_count": 16,
   "metadata": {
    "collapsed": true
   },
   "outputs": [],
   "source": [
    "for x in range(10):\n",
    "    y.append(33)"
   ]
  },
  {
   "cell_type": "code",
   "execution_count": 17,
   "metadata": {
    "collapsed": false
   },
   "outputs": [
    {
     "name": "stdout",
     "output_type": "stream",
     "text": [
      "(4000,)\n"
     ]
    }
   ],
   "source": [
    "for x in range(1750):\n",
    "    y.append(0)\n",
    "Y_train = np.array(y)\n",
    "print Y_train.shape"
   ]
  },
  {
   "cell_type": "code",
   "execution_count": 18,
   "metadata": {
    "collapsed": true
   },
   "outputs": [],
   "source": [
    "np.save('logos_data_X', X_train)\n",
    "np.save('logos_data_Y', Y_train)"
   ]
  }
 ],
 "metadata": {
  "kernelspec": {
   "display_name": "Python 2",
   "language": "python",
   "name": "python2"
  },
  "language_info": {
   "codemirror_mode": {
    "name": "ipython",
    "version": 2
   },
   "file_extension": ".py",
   "mimetype": "text/x-python",
   "name": "python",
   "nbconvert_exporter": "python",
   "pygments_lexer": "ipython2",
   "version": "2.7.12"
  }
 },
 "nbformat": 4,
 "nbformat_minor": 2
}
